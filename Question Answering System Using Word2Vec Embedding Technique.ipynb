{
 "cells": [
  {
   "cell_type": "code",
   "execution_count": 1,
   "metadata": {
    "colab": {
     "base_uri": "https://localhost:8080/"
    },
    "executionInfo": {
     "elapsed": 8442,
     "status": "ok",
     "timestamp": 1619419790081,
     "user": {
      "displayName": "SATYAM SONI",
      "photoUrl": "https://lh3.googleusercontent.com/a-/AOh14GhG4rcPYa7hnDqGvLTYPIBiXe9m-k4IPTmu9dWD=s64",
      "userId": "06127152709350492896"
     },
     "user_tz": -330
    },
    "id": "DvP8WnJHfNVb",
    "outputId": "6b7dfde8-deb8-4e8a-aa4c-45465757db58"
   },
   "outputs": [
    {
     "name": "stdout",
     "output_type": "stream",
     "text": [
      "Requirement already satisfied: pdfplumber in e:\\cv projects\\smart-question-answering-system-on-document\\env\\lib\\site-packages (0.10.4)\n",
      "Requirement already satisfied: pdfminer.six==20221105 in e:\\cv projects\\smart-question-answering-system-on-document\\env\\lib\\site-packages (from pdfplumber) (20221105)\n",
      "Requirement already satisfied: Pillow>=9.1 in e:\\cv projects\\smart-question-answering-system-on-document\\env\\lib\\site-packages (from pdfplumber) (10.2.0)\n",
      "Requirement already satisfied: pypdfium2>=4.18.0 in e:\\cv projects\\smart-question-answering-system-on-document\\env\\lib\\site-packages (from pdfplumber) (4.27.0)\n",
      "Requirement already satisfied: charset-normalizer>=2.0.0 in e:\\cv projects\\smart-question-answering-system-on-document\\env\\lib\\site-packages (from pdfminer.six==20221105->pdfplumber) (3.3.2)\n",
      "Requirement already satisfied: cryptography>=36.0.0 in e:\\cv projects\\smart-question-answering-system-on-document\\env\\lib\\site-packages (from pdfminer.six==20221105->pdfplumber) (42.0.5)\n",
      "Requirement already satisfied: cffi>=1.12 in e:\\cv projects\\smart-question-answering-system-on-document\\env\\lib\\site-packages (from cryptography>=36.0.0->pdfminer.six==20221105->pdfplumber) (1.16.0)\n",
      "Requirement already satisfied: pycparser in e:\\cv projects\\smart-question-answering-system-on-document\\env\\lib\\site-packages (from cffi>=1.12->cryptography>=36.0.0->pdfminer.six==20221105->pdfplumber) (2.21)\n"
     ]
    }
   ],
   "source": [
    "!pip install pdfplumber"
   ]
  },
  {
   "cell_type": "code",
   "execution_count": 2,
   "metadata": {
    "id": "2E2YFFZxfNSx"
   },
   "outputs": [],
   "source": [
    "import pdfplumber\n",
    "pdf = pdfplumber.open('Data science and Machine Learning.pdf')\n",
    "page = pdf.pages[0]\n",
    "page1 = pdf.pages[1]\n",
    "pdf_txt = page.extract_text() + page1.extract_text()\n",
    "pdf.close()"
   ]
  },
  {
   "cell_type": "code",
   "execution_count": 3,
   "metadata": {
    "colab": {
     "base_uri": "https://localhost:8080/"
    },
    "executionInfo": {
     "elapsed": 2140,
     "status": "ok",
     "timestamp": 1619419793554,
     "user": {
      "displayName": "SATYAM SONI",
      "photoUrl": "https://lh3.googleusercontent.com/a-/AOh14GhG4rcPYa7hnDqGvLTYPIBiXe9m-k4IPTmu9dWD=s64",
      "userId": "06127152709350492896"
     },
     "user_tz": -330
    },
    "id": "NW9vnIam7mwe",
    "outputId": "f60d2cf3-cc26-4318-92c6-6de00db83ed8"
   },
   "outputs": [
    {
     "name": "stdout",
     "output_type": "stream",
     "text": [
      "Simple Linear Regression\n",
      "Simple Linear Regression is a machine learning algorithm that models the\n",
      "relationship between a dependent variable and one independent variable. It is a type\n",
      "of linear regression that is used to predict a quantitative output variable based on a\n",
      "single input variable.\n",
      "The equation for Simple Linear Regression can be written as:\n",
      "y = b0 + b1 * x\n",
      "Where y is the dependent variable, x is the independent variable, b0 is the\n",
      "y-intercept, and b1 is the slope of the line. The goal of Simple Linear Regression is\n",
      "to find the best values for b0 and b1 that minimize the sum of the squared errors\n",
      "between the predicted values and the actual values.\n",
      "Example:\n",
      "Let's consider an example where we have a dataset of salaries and years of\n",
      "experience, and we want to build a Simple Linear Regression model to predict\n",
      "salaries based on years of experience.\n",
      "First, we need to import the necessary libraries and load the dataset:\n",
      "import pandas as pd\n",
      "import numpy as np\n",
      "import matplotlib.pyplot as plt\n",
      "from sklearn.linear_model import LinearRegression\n",
      "from sklearn.model_selection import train_test_split\n",
      "dataset = pd.read_csv('salary_data.csv')\n",
      "Next, we need to split the dataset into training and testing sets:\n",
      "python\n",
      "Copy code\n",
      "X = dataset.iloc[:, :-1].values\n",
      "y = dataset.iloc[:, 1].values\n",
      "X_train, X_test, y_train, y_test = train_test_split(X, y, test_size=0.2, random_state=0)\n",
      "After splitting the dataset, we need to create an instance of the\n",
      "LinearRegression class and fit it to the training data:regressor = LinearRegression()\n",
      "regressor.fit(X_train, y_train)\n",
      "Now that we have fit the model to the training data, we can use it to make predictions\n",
      "on the testing data:\n",
      "y_pred = regressor.predict(X_test)\n",
      "We can also visualize the results by plotting the training set and the regression line:\n",
      "python\n",
      "Copy code\n",
      "plt.scatter(X_train, y_train, color='red')\n",
      "plt.plot(X_train, regressor.predict(X_train), color='blue')\n",
      "plt.title('Salary vs Experience (Training set)')\n",
      "plt.xlabel('Years of Experience')\n",
      "plt.ylabel('Salary')\n",
      "plt.show()\n",
      "This will produce a scatter plot of the training data with the regression line overlaid:\n",
      "Simple Linear Regression Plot\n",
      "Finally, we can evaluate the performance of the model by calculating the mean\n",
      "squared error and the coefficient of determination (R-squared) on the testing data:\n",
      "from sklearn.metrics import mean_squared_error, r2_score\n",
      "print('Mean squared error: %.2f' % mean_squared_error(y_test, y_pred))\n",
      "print('Coefficient of determination: %.2f' % r2_score(y_test, y_pred))\n",
      "Mean squared error (MSE): This metric measures the average squared difference\n",
      "between the predicted values and the actual values. It gives an idea of how well the\n",
      "model is able to fit the data. The lower the value of MSE, the better the model is\n",
      "performing.\n",
      "Coefficient of determination (R-squared): This metric measures the proportion of\n",
      "variance in the dependent variable (y) that can be explained by the independent\n",
      "variable (X) used in the model. It ranges from 0 to 1, where 0 means that the model\n"
     ]
    }
   ],
   "source": [
    "print(pdf_txt)"
   ]
  },
  {
   "cell_type": "code",
   "execution_count": null,
   "metadata": {
    "colab": {
     "base_uri": "https://localhost:8080/"
    },
    "executionInfo": {
     "elapsed": 3941,
     "status": "ok",
     "timestamp": 1619419796769,
     "user": {
      "displayName": "SATYAM SONI",
      "photoUrl": "https://lh3.googleusercontent.com/a-/AOh14GhG4rcPYa7hnDqGvLTYPIBiXe9m-k4IPTmu9dWD=s64",
      "userId": "06127152709350492896"
     },
     "user_tz": -330
    },
    "id": "sTCcRsKkfNP3",
    "outputId": "2cb8206a-ce93-47be-9c27-7cdc969aecaa"
   },
   "outputs": [
    {
     "name": "stdout",
     "output_type": "stream",
     "text": [
      "Requirement already satisfied: nltk in /usr/local/lib/python3.7/dist-packages (3.2.5)\n",
      "Requirement already satisfied: six in /usr/local/lib/python3.7/dist-packages (from nltk) (1.15.0)\n"
     ]
    }
   ],
   "source": [
    "pip install nltk"
   ]
  },
  {
   "cell_type": "code",
   "execution_count": 4,
   "metadata": {
    "colab": {
     "base_uri": "https://localhost:8080/"
    },
    "executionInfo": {
     "elapsed": 2318,
     "status": "ok",
     "timestamp": 1619423225948,
     "user": {
      "displayName": "SATYAM SONI",
      "photoUrl": "https://lh3.googleusercontent.com/a-/AOh14GhG4rcPYa7hnDqGvLTYPIBiXe9m-k4IPTmu9dWD=s64",
      "userId": "06127152709350492896"
     },
     "user_tz": -330
    },
    "id": "sQlQc2kiJPQJ",
    "outputId": "3f73525f-4678-42a1-b624-cb9de6fe5ada"
   },
   "outputs": [
    {
     "name": "stdout",
     "output_type": "stream",
     "text": [
      "Simple Linear Regression\n",
      "Simple Linear Regression is a machine learning algorithm that models the\n",
      "relationship between a dependent variable and one independent variable. \n",
      "\n",
      "It is a type\n",
      "of linear regression that is used to predict a quantitative output variable based on a\n",
      "single input variable. \n",
      "\n",
      "The equation for Simple Linear Regression can be written as:\n",
      "y = b0 + b1 * x\n",
      "Where y is the dependent variable, x is the independent variable, b0 is the\n",
      "y-intercept, and b1 is the slope of the line. \n",
      "\n",
      "The goal of Simple Linear Regression is\n",
      "to find the best values for b0 and b1 that minimize the sum of the squared errors\n",
      "between the predicted values and the actual values. \n",
      "\n",
      "Example:\n",
      "Let's consider an example where we have a dataset of salaries and years of\n",
      "experience, and we want to build a Simple Linear Regression model to predict\n",
      "salaries based on years of experience. \n",
      "\n",
      "First, we need to import the necessary libraries and load the dataset:\n",
      "import pandas as pd\n",
      "import numpy as np\n",
      "import matplotlib.pyplot as plt\n",
      "from sklearn.linear_model import LinearRegression\n",
      "from sklearn.model_selection import train_test_split\n",
      "dataset = pd.read_csv('salary_data.csv')\n",
      "Next, we need to split the dataset into training and testing sets:\n",
      "python\n",
      "Copy code\n",
      "X = dataset.iloc[:, :-1].values\n",
      "y = dataset.iloc[:, 1].values\n",
      "X_train, X_test, y_train, y_test = train_test_split(X, y, test_size=0.2, random_state=0)\n",
      "After splitting the dataset, we need to create an instance of the\n",
      "LinearRegression class and fit it to the training data:regressor = LinearRegression()\n",
      "regressor.fit(X_train, y_train)\n",
      "Now that we have fit the model to the training data, we can use it to make predictions\n",
      "on the testing data:\n",
      "y_pred = regressor.predict(X_test)\n",
      "We can also visualize the results by plotting the training set and the regression line:\n",
      "python\n",
      "Copy code\n",
      "plt.scatter(X_train, y_train, color='red')\n",
      "plt.plot(X_train, regressor.predict(X_train), color='blue')\n",
      "plt.title('Salary vs Experience (Training set)')\n",
      "plt.xlabel('Years of Experience')\n",
      "plt.ylabel('Salary')\n",
      "plt.show()\n",
      "This will produce a scatter plot of the training data with the regression line overlaid:\n",
      "Simple Linear Regression Plot\n",
      "Finally, we can evaluate the performance of the model by calculating the mean\n",
      "squared error and the coefficient of determination (R-squared) on the testing data:\n",
      "from sklearn.metrics import mean_squared_error, r2_score\n",
      "print('Mean squared error: %.2f' % mean_squared_error(y_test, y_pred))\n",
      "print('Coefficient of determination: %.2f' % r2_score(y_test, y_pred))\n",
      "Mean squared error (MSE): This metric measures the average squared difference\n",
      "between the predicted values and the actual values. \n",
      "\n",
      "It gives an idea of how well the\n",
      "model is able to fit the data. \n",
      "\n",
      "The lower the value of MSE, the better the model is\n",
      "performing. \n",
      "\n",
      "Coefficient of determination (R-squared): This metric measures the proportion of\n",
      "variance in the dependent variable (y) that can be explained by the independent\n",
      "variable (X) used in the model. \n",
      "\n",
      "It ranges from 0 to 1, where 0 means that the model \n",
      "\n"
     ]
    },
    {
     "name": "stderr",
     "output_type": "stream",
     "text": [
      "[nltk_data] Downloading package punkt to\n",
      "[nltk_data]     C:\\Users\\Sagnik\\AppData\\Roaming\\nltk_data...\n",
      "[nltk_data]   Package punkt is already up-to-date!\n"
     ]
    }
   ],
   "source": [
    "import nltk\n",
    "nltk.download('punkt')\n",
    "tokens = nltk.sent_tokenize(pdf_txt)\n",
    "for t in tokens:\n",
    "    print(t, \"\\n\")"
   ]
  },
  {
   "cell_type": "code",
   "execution_count": null,
   "metadata": {
    "colab": {
     "base_uri": "https://localhost:8080/"
    },
    "executionInfo": {
     "elapsed": 6254,
     "status": "ok",
     "timestamp": 1619423235140,
     "user": {
      "displayName": "SATYAM SONI",
      "photoUrl": "https://lh3.googleusercontent.com/a-/AOh14GhG4rcPYa7hnDqGvLTYPIBiXe9m-k4IPTmu9dWD=s64",
      "userId": "06127152709350492896"
     },
     "user_tz": -330
    },
    "id": "ko73Pu2FkKSL",
    "outputId": "a3aa237a-4250-422a-c2ec-932c7fc48a80"
   },
   "outputs": [
    {
     "name": "stdout",
     "output_type": "stream",
     "text": [
      "Requirement already up-to-date: gensim in /usr/local/lib/python3.7/dist-packages (4.0.1)\n",
      "Requirement already satisfied, skipping upgrade: numpy>=1.11.3 in /usr/local/lib/python3.7/dist-packages (from gensim) (1.19.5)\n",
      "Requirement already satisfied, skipping upgrade: smart-open>=1.8.1 in /usr/local/lib/python3.7/dist-packages (from gensim) (5.0.0)\n",
      "Requirement already satisfied, skipping upgrade: scipy>=0.18.1 in /usr/local/lib/python3.7/dist-packages (from gensim) (1.4.1)\n"
     ]
    }
   ],
   "source": [
    "pip install -U gensim"
   ]
  },
  {
   "cell_type": "code",
   "execution_count": 5,
   "metadata": {
    "id": "lwHObl-Sj-ZJ"
   },
   "outputs": [],
   "source": [
    "import re\n",
    "import gensim\n",
    "from gensim.parsing.preprocessing import remove_stopwords\n",
    "\n",
    "def clean_sentence(sentence, stopwords=False):\n",
    "  sentence = sentence.lower().strip()\n",
    "  sentence = re.sub(r'[^a-z0-9\\s]', '', sentence)\n",
    "  if stopwords:\n",
    "    sentence = remove_stopwords(sentence)\n",
    "  return sentence\n",
    "\n",
    "def get_cleaned_sentences(tokens, stopwords=False):\n",
    "  cleaned_sentences = []\n",
    "  for row in tokens:\n",
    "    cleaned = clean_sentence(row, stopwords)\n",
    "    cleaned_sentences.append(cleaned)\n",
    "  return cleaned_sentences\n",
    "\n"
   ]
  },
  {
   "cell_type": "code",
   "execution_count": 6,
   "metadata": {
    "colab": {
     "base_uri": "https://localhost:8080/"
    },
    "executionInfo": {
     "elapsed": 1032,
     "status": "ok",
     "timestamp": 1619423240069,
     "user": {
      "displayName": "SATYAM SONI",
      "photoUrl": "https://lh3.googleusercontent.com/a-/AOh14GhG4rcPYa7hnDqGvLTYPIBiXe9m-k4IPTmu9dWD=s64",
      "userId": "06127152709350492896"
     },
     "user_tz": -330
    },
    "id": "dFL9sfOfiZpI",
    "outputId": "335cd839-d4ff-4b5b-9be3-fb090292b51b"
   },
   "outputs": [
    {
     "name": "stdout",
     "output_type": "stream",
     "text": [
      "['simple linear regression simple linear regression machine learning algorithm models relationship dependent variable independent variable', 'type linear regression predict quantitative output variable based single input variable', 'equation simple linear regression written y b0 b1 x y dependent variable x independent variable b0 yintercept b1 slope line', 'goal simple linear regression best values b0 b1 minimize sum squared errors predicted values actual values', 'example lets consider example dataset salaries years experience want build simple linear regression model predict salaries based years experience', 'need import necessary libraries load dataset import pandas pd import numpy np import matplotlibpyplot plt sklearnlinearmodel import linearregression sklearnmodelselection import traintestsplit dataset pdreadcsvsalarydatacsv need split dataset training testing sets python copy code x datasetiloc 1values y datasetiloc 1values xtrain xtest ytrain ytest traintestsplitx y testsize02 randomstate0 splitting dataset need create instance linearregression class fit training dataregressor linearregression regressorfitxtrain ytrain fit model training data use predictions testing data ypred regressorpredictxtest visualize results plotting training set regression line python copy code pltscatterxtrain ytrain colorred pltplotxtrain regressorpredictxtrain colorblue plttitlesalary vs experience training set pltxlabelyears experience pltylabelsalary pltshow produce scatter plot training data regression line overlaid simple linear regression plot finally evaluate performance model calculating mean squared error coefficient determination rsquared testing data sklearnmetrics import meansquarederror r2score printmean squared error 2f meansquarederrorytest ypred printcoefficient determination 2f r2scoreytest ypred mean squared error mse metric measures average squared difference predicted values actual values', 'gives idea model able fit data', 'lower value mse better model performing', 'coefficient determination rsquared metric measures proportion variance dependent variable y explained independent variable x model', 'ranges 0 1 0 means model']\n",
      "['simple linear regression\\nsimple linear regression is a machine learning algorithm that models the\\nrelationship between a dependent variable and one independent variable', 'it is a type\\nof linear regression that is used to predict a quantitative output variable based on a\\nsingle input variable', 'the equation for simple linear regression can be written as\\ny  b0  b1  x\\nwhere y is the dependent variable x is the independent variable b0 is the\\nyintercept and b1 is the slope of the line', 'the goal of simple linear regression is\\nto find the best values for b0 and b1 that minimize the sum of the squared errors\\nbetween the predicted values and the actual values', 'example\\nlets consider an example where we have a dataset of salaries and years of\\nexperience and we want to build a simple linear regression model to predict\\nsalaries based on years of experience', 'first we need to import the necessary libraries and load the dataset\\nimport pandas as pd\\nimport numpy as np\\nimport matplotlibpyplot as plt\\nfrom sklearnlinearmodel import linearregression\\nfrom sklearnmodelselection import traintestsplit\\ndataset  pdreadcsvsalarydatacsv\\nnext we need to split the dataset into training and testing sets\\npython\\ncopy code\\nx  datasetiloc 1values\\ny  datasetiloc 1values\\nxtrain xtest ytrain ytest  traintestsplitx y testsize02 randomstate0\\nafter splitting the dataset we need to create an instance of the\\nlinearregression class and fit it to the training dataregressor  linearregression\\nregressorfitxtrain ytrain\\nnow that we have fit the model to the training data we can use it to make predictions\\non the testing data\\nypred  regressorpredictxtest\\nwe can also visualize the results by plotting the training set and the regression line\\npython\\ncopy code\\npltscatterxtrain ytrain colorred\\npltplotxtrain regressorpredictxtrain colorblue\\nplttitlesalary vs experience training set\\npltxlabelyears of experience\\npltylabelsalary\\npltshow\\nthis will produce a scatter plot of the training data with the regression line overlaid\\nsimple linear regression plot\\nfinally we can evaluate the performance of the model by calculating the mean\\nsquared error and the coefficient of determination rsquared on the testing data\\nfrom sklearnmetrics import meansquarederror r2score\\nprintmean squared error 2f  meansquarederrorytest ypred\\nprintcoefficient of determination 2f  r2scoreytest ypred\\nmean squared error mse this metric measures the average squared difference\\nbetween the predicted values and the actual values', 'it gives an idea of how well the\\nmodel is able to fit the data', 'the lower the value of mse the better the model is\\nperforming', 'coefficient of determination rsquared this metric measures the proportion of\\nvariance in the dependent variable y that can be explained by the independent\\nvariable x used in the model', 'it ranges from 0 to 1 where 0 means that the model']\n"
     ]
    }
   ],
   "source": [
    "cleaned_sentences = get_cleaned_sentences(tokens, stopwords=True)\n",
    "cleaned_sentences_with_stopwords = get_cleaned_sentences(tokens, stopwords=False)\n",
    "print(cleaned_sentences)\n",
    "print(cleaned_sentences_with_stopwords)"
   ]
  },
  {
   "cell_type": "code",
   "execution_count": 7,
   "metadata": {
    "colab": {
     "base_uri": "https://localhost:8080/"
    },
    "executionInfo": {
     "elapsed": 1565,
     "status": "ok",
     "timestamp": 1619423243453,
     "user": {
      "displayName": "SATYAM SONI",
      "photoUrl": "https://lh3.googleusercontent.com/a-/AOh14GhG4rcPYa7hnDqGvLTYPIBiXe9m-k4IPTmu9dWD=s64",
      "userId": "06127152709350492896"
     },
     "user_tz": -330
    },
    "id": "6nf64qiNoNU2",
    "outputId": "9f1e3066-de5d-4664-9c08-a79dd2032ffe"
   },
   "outputs": [
    {
     "name": "stdout",
     "output_type": "stream",
     "text": [
      "0  :  a\n",
      "1  :  algorithm\n",
      "2  :  and\n",
      "3  :  between\n",
      "4  :  dependent\n",
      "5  :  independent\n",
      "6  :  is\n",
      "7  :  learning\n",
      "8  :  linear\n",
      "9  :  machine\n",
      "10  :  models\n",
      "11  :  one\n",
      "12  :  regression\n",
      "13  :  relationship\n",
      "14  :  simple\n",
      "15  :  that\n",
      "16  :  the\n",
      "17  :  variable\n",
      "18  :  based\n",
      "19  :  input\n",
      "20  :  it\n",
      "21  :  of\n",
      "22  :  on\n",
      "23  :  output\n",
      "24  :  predict\n",
      "25  :  quantitative\n",
      "26  :  single\n",
      "27  :  to\n",
      "28  :  type\n",
      "29  :  used\n",
      "30  :  as\n",
      "31  :  b0\n",
      "32  :  b1\n",
      "33  :  be\n",
      "34  :  can\n",
      "35  :  equation\n",
      "36  :  for\n",
      "37  :  line\n",
      "38  :  slope\n",
      "39  :  where\n",
      "40  :  written\n",
      "41  :  x\n",
      "42  :  y\n",
      "43  :  yintercept\n",
      "44  :  actual\n",
      "45  :  best\n",
      "46  :  errors\n",
      "47  :  find\n",
      "48  :  goal\n",
      "49  :  minimize\n",
      "50  :  predicted\n",
      "51  :  squared\n",
      "52  :  sum\n",
      "53  :  values\n",
      "54  :  an\n",
      "55  :  build\n",
      "56  :  consider\n",
      "57  :  dataset\n",
      "58  :  example\n",
      "59  :  experience\n",
      "60  :  have\n",
      "61  :  lets\n",
      "62  :  model\n",
      "63  :  salaries\n",
      "64  :  want\n",
      "65  :  we\n",
      "66  :  years\n",
      "67  :  1values\n",
      "68  :  2f\n",
      "69  :  after\n",
      "70  :  also\n",
      "71  :  average\n",
      "72  :  by\n",
      "73  :  calculating\n",
      "74  :  class\n",
      "75  :  code\n",
      "76  :  coefficient\n",
      "77  :  colorblue\n",
      "78  :  colorred\n",
      "79  :  copy\n",
      "80  :  create\n",
      "81  :  data\n",
      "82  :  dataregressor\n",
      "83  :  datasetiloc\n",
      "84  :  determination\n",
      "85  :  difference\n",
      "86  :  error\n",
      "87  :  evaluate\n",
      "88  :  finally\n",
      "89  :  first\n",
      "90  :  fit\n",
      "91  :  from\n",
      "92  :  import\n",
      "93  :  instance\n",
      "94  :  into\n",
      "95  :  libraries\n",
      "96  :  linearregression\n",
      "97  :  load\n",
      "98  :  make\n",
      "99  :  matplotlibpyplot\n",
      "100  :  mean\n",
      "101  :  meansquarederror\n",
      "102  :  meansquarederrorytest\n",
      "103  :  measures\n",
      "104  :  metric\n",
      "105  :  mse\n",
      "106  :  necessary\n",
      "107  :  need\n",
      "108  :  next\n",
      "109  :  now\n",
      "110  :  np\n",
      "111  :  numpy\n",
      "112  :  overlaid\n",
      "113  :  pandas\n",
      "114  :  pd\n",
      "115  :  pdreadcsvsalarydatacsv\n",
      "116  :  performance\n",
      "117  :  plot\n",
      "118  :  plotting\n",
      "119  :  plt\n",
      "120  :  pltplotxtrain\n",
      "121  :  pltscatterxtrain\n",
      "122  :  pltshow\n",
      "123  :  plttitlesalary\n",
      "124  :  pltxlabelyears\n",
      "125  :  pltylabelsalary\n",
      "126  :  predictions\n",
      "127  :  printcoefficient\n",
      "128  :  printmean\n",
      "129  :  produce\n",
      "130  :  python\n",
      "131  :  r2score\n",
      "132  :  r2scoreytest\n",
      "133  :  randomstate0\n",
      "134  :  regressorfitxtrain\n",
      "135  :  regressorpredictxtest\n",
      "136  :  regressorpredictxtrain\n",
      "137  :  results\n",
      "138  :  rsquared\n",
      "139  :  scatter\n",
      "140  :  set\n",
      "141  :  sets\n",
      "142  :  sklearnlinearmodel\n",
      "143  :  sklearnmetrics\n",
      "144  :  sklearnmodelselection\n",
      "145  :  split\n",
      "146  :  splitting\n",
      "147  :  testing\n",
      "148  :  testsize02\n",
      "149  :  this\n",
      "150  :  training\n",
      "151  :  traintestsplit\n",
      "152  :  traintestsplitx\n",
      "153  :  use\n",
      "154  :  visualize\n",
      "155  :  vs\n",
      "156  :  will\n",
      "157  :  with\n",
      "158  :  xtest\n",
      "159  :  xtrain\n",
      "160  :  ypred\n",
      "161  :  ytest\n",
      "162  :  ytrain\n",
      "163  :  able\n",
      "164  :  gives\n",
      "165  :  how\n",
      "166  :  idea\n",
      "167  :  well\n",
      "168  :  better\n",
      "169  :  lower\n",
      "170  :  performing\n",
      "171  :  value\n",
      "172  :  explained\n",
      "173  :  in\n",
      "174  :  proportion\n",
      "175  :  variance\n",
      "176  :  0\n",
      "177  :  1\n",
      "178  :  means\n",
      "179  :  ranges\n"
     ]
    }
   ],
   "source": [
    "import numpy\n",
    "sentences = cleaned_sentences_with_stopwords\n",
    "sentence_words = [[word for word in document.split()]\n",
    "                  for document in sentences]\n",
    "\n",
    "from gensim import corpora\n",
    "dictionary = corpora.Dictionary(sentence_words)\n",
    "for key, value in dictionary.items():\n",
    "  print(key, ' : ', value)"
   ]
  },
  {
   "cell_type": "code",
   "execution_count": 8,
   "metadata": {
    "colab": {
     "base_uri": "https://localhost:8080/"
    },
    "executionInfo": {
     "elapsed": 1062,
     "status": "ok",
     "timestamp": 1619423246792,
     "user": {
      "displayName": "SATYAM SONI",
      "photoUrl": "https://lh3.googleusercontent.com/a-/AOh14GhG4rcPYa7hnDqGvLTYPIBiXe9m-k4IPTmu9dWD=s64",
      "userId": "06127152709350492896"
     },
     "user_tz": -330
    },
    "id": "nLkQY9FEoqlt",
    "outputId": "2420f0e8-8411-4813-8409-939eb56a5290"
   },
   "outputs": [
    {
     "name": "stdout",
     "output_type": "stream",
     "text": [
      "simple linear regression\n",
      "simple linear regression is a machine learning algorithm that models the\n",
      "relationship between a dependent variable and one independent variable\n",
      "[(0, 2), (1, 1), (2, 1), (3, 1), (4, 1), (5, 1), (6, 1), (7, 1), (8, 2), (9, 1), (10, 1), (11, 1), (12, 2), (13, 1), (14, 2), (15, 1), (16, 1), (17, 2)]\n",
      "it is a type\n",
      "of linear regression that is used to predict a quantitative output variable based on a\n",
      "single input variable\n",
      "[(0, 3), (6, 2), (8, 1), (12, 1), (15, 1), (17, 2), (18, 1), (19, 1), (20, 1), (21, 1), (22, 1), (23, 1), (24, 1), (25, 1), (26, 1), (27, 1), (28, 1), (29, 1)]\n",
      "the equation for simple linear regression can be written as\n",
      "y  b0  b1  x\n",
      "where y is the dependent variable x is the independent variable b0 is the\n",
      "yintercept and b1 is the slope of the line\n",
      "[(2, 1), (4, 1), (5, 1), (6, 4), (8, 1), (12, 1), (14, 1), (16, 6), (17, 2), (21, 1), (30, 1), (31, 2), (32, 2), (33, 1), (34, 1), (35, 1), (36, 1), (37, 1), (38, 1), (39, 1), (40, 1), (41, 2), (42, 2), (43, 1)]\n",
      "the goal of simple linear regression is\n",
      "to find the best values for b0 and b1 that minimize the sum of the squared errors\n",
      "between the predicted values and the actual values\n",
      "[(2, 2), (3, 1), (6, 1), (8, 1), (12, 1), (14, 1), (15, 1), (16, 6), (21, 2), (27, 1), (31, 1), (32, 1), (36, 1), (44, 1), (45, 1), (46, 1), (47, 1), (48, 1), (49, 1), (50, 1), (51, 1), (52, 1), (53, 3)]\n",
      "example\n",
      "lets consider an example where we have a dataset of salaries and years of\n",
      "experience and we want to build a simple linear regression model to predict\n",
      "salaries based on years of experience\n",
      "[(0, 2), (2, 2), (8, 1), (12, 1), (14, 1), (18, 1), (21, 3), (22, 1), (24, 1), (27, 2), (39, 1), (54, 1), (55, 1), (56, 1), (57, 1), (58, 2), (59, 2), (60, 1), (61, 1), (62, 1), (63, 2), (64, 1), (65, 2), (66, 2)]\n",
      "first we need to import the necessary libraries and load the dataset\n",
      "import pandas as pd\n",
      "import numpy as np\n",
      "import matplotlibpyplot as plt\n",
      "from sklearnlinearmodel import linearregression\n",
      "from sklearnmodelselection import traintestsplit\n",
      "dataset  pdreadcsvsalarydatacsv\n",
      "next we need to split the dataset into training and testing sets\n",
      "python\n",
      "copy code\n",
      "x  datasetiloc 1values\n",
      "y  datasetiloc 1values\n",
      "xtrain xtest ytrain ytest  traintestsplitx y testsize02 randomstate0\n",
      "after splitting the dataset we need to create an instance of the\n",
      "linearregression class and fit it to the training dataregressor  linearregression\n",
      "regressorfitxtrain ytrain\n",
      "now that we have fit the model to the training data we can use it to make predictions\n",
      "on the testing data\n",
      "ypred  regressorpredictxtest\n",
      "we can also visualize the results by plotting the training set and the regression line\n",
      "python\n",
      "copy code\n",
      "pltscatterxtrain ytrain colorred\n",
      "pltplotxtrain regressorpredictxtrain colorblue\n",
      "plttitlesalary vs experience training set\n",
      "pltxlabelyears of experience\n",
      "pltylabelsalary\n",
      "pltshow\n",
      "this will produce a scatter plot of the training data with the regression line overlaid\n",
      "simple linear regression plot\n",
      "finally we can evaluate the performance of the model by calculating the mean\n",
      "squared error and the coefficient of determination rsquared on the testing data\n",
      "from sklearnmetrics import meansquarederror r2score\n",
      "printmean squared error 2f  meansquarederrorytest ypred\n",
      "printcoefficient of determination 2f  r2scoreytest ypred\n",
      "mean squared error mse this metric measures the average squared difference\n",
      "between the predicted values and the actual values\n",
      "[(0, 1), (2, 6), (3, 1), (8, 1), (12, 3), (14, 1), (15, 1), (16, 22), (20, 2), (21, 6), (22, 2), (27, 6), (30, 3), (34, 3), (37, 2), (41, 1), (42, 2), (44, 1), (50, 1), (51, 4), (53, 2), (54, 1), (57, 4), (59, 2), (60, 1), (62, 2), (65, 7), (67, 2), (68, 2), (69, 1), (70, 1), (71, 1), (72, 2), (73, 1), (74, 1), (75, 2), (76, 1), (77, 1), (78, 1), (79, 2), (80, 1), (81, 4), (82, 1), (83, 2), (84, 2), (85, 1), (86, 3), (87, 1), (88, 1), (89, 1), (90, 2), (91, 3), (92, 7), (93, 1), (94, 1), (95, 1), (96, 3), (97, 1), (98, 1), (99, 1), (100, 2), (101, 1), (102, 1), (103, 1), (104, 1), (105, 1), (106, 1), (107, 3), (108, 1), (109, 1), (110, 1), (111, 1), (112, 1), (113, 1), (114, 1), (115, 1), (116, 1), (117, 2), (118, 1), (119, 1), (120, 1), (121, 1), (122, 1), (123, 1), (124, 1), (125, 1), (126, 1), (127, 1), (128, 1), (129, 1), (130, 2), (131, 1), (132, 1), (133, 1), (134, 1), (135, 1), (136, 1), (137, 1), (138, 1), (139, 1), (140, 2), (141, 1), (142, 1), (143, 1), (144, 1), (145, 1), (146, 1), (147, 3), (148, 1), (149, 2), (150, 6), (151, 1), (152, 1), (153, 1), (154, 1), (155, 1), (156, 1), (157, 1), (158, 1), (159, 1), (160, 3), (161, 1), (162, 3)]\n",
      "it gives an idea of how well the\n",
      "model is able to fit the data\n",
      "[(6, 1), (16, 2), (20, 1), (21, 1), (27, 1), (54, 1), (62, 1), (81, 1), (90, 1), (163, 1), (164, 1), (165, 1), (166, 1), (167, 1)]\n",
      "the lower the value of mse the better the model is\n",
      "performing\n",
      "[(6, 1), (16, 4), (21, 1), (62, 1), (105, 1), (168, 1), (169, 1), (170, 1), (171, 1)]\n",
      "coefficient of determination rsquared this metric measures the proportion of\n",
      "variance in the dependent variable y that can be explained by the independent\n",
      "variable x used in the model\n",
      "[(4, 1), (5, 1), (15, 1), (16, 4), (17, 2), (21, 2), (29, 1), (33, 1), (34, 1), (41, 1), (42, 1), (62, 1), (72, 1), (76, 1), (84, 1), (103, 1), (104, 1), (138, 1), (149, 1), (172, 1), (173, 2), (174, 1), (175, 1)]\n",
      "it ranges from 0 to 1 where 0 means that the model\n",
      "[(15, 1), (16, 1), (20, 1), (27, 1), (39, 1), (62, 1), (91, 1), (176, 2), (177, 1), (178, 1), (179, 1)]\n"
     ]
    }
   ],
   "source": [
    "import pprint\n",
    "bow_corpus = [dictionary.doc2bow(text) for text in sentence_words]\n",
    "for sent, embedding in zip(sentences, bow_corpus):\n",
    "  print(sent)\n",
    "  print(embedding)"
   ]
  },
  {
   "cell_type": "code",
   "execution_count": 9,
   "metadata": {
    "id": "1QdzdD8BpLOQ"
   },
   "outputs": [],
   "source": [
    "question = \"What is simple linear regression ?\""
   ]
  },
  {
   "cell_type": "code",
   "execution_count": 10,
   "metadata": {
    "colab": {
     "base_uri": "https://localhost:8080/"
    },
    "executionInfo": {
     "elapsed": 1366,
     "status": "ok",
     "timestamp": 1619423272524,
     "user": {
      "displayName": "SATYAM SONI",
      "photoUrl": "https://lh3.googleusercontent.com/a-/AOh14GhG4rcPYa7hnDqGvLTYPIBiXe9m-k4IPTmu9dWD=s64",
      "userId": "06127152709350492896"
     },
     "user_tz": -330
    },
    "id": "CDihOJGSpOr2",
    "outputId": "a244d9e2-ca85-40f1-be67-3efc9ed5504b"
   },
   "outputs": [
    {
     "name": "stdout",
     "output_type": "stream",
     "text": [
      "what is simple linear regression  \n",
      " [(6, 1), (8, 1), (12, 1), (14, 1)]\n"
     ]
    }
   ],
   "source": [
    "question = clean_sentence(question, stopwords=False)\n",
    "question_embedding = dictionary.doc2bow(question.split())\n",
    "print(question, \"\\n\", question_embedding)"
   ]
  },
  {
   "cell_type": "code",
   "execution_count": 11,
   "metadata": {
    "colab": {
     "base_uri": "https://localhost:8080/"
    },
    "executionInfo": {
     "elapsed": 1585,
     "status": "ok",
     "timestamp": 1619423276809,
     "user": {
      "displayName": "SATYAM SONI",
      "photoUrl": "https://lh3.googleusercontent.com/a-/AOh14GhG4rcPYa7hnDqGvLTYPIBiXe9m-k4IPTmu9dWD=s64",
      "userId": "06127152709350492896"
     },
     "user_tz": -330
    },
    "id": "393ezGDGok6u",
    "outputId": "d9941a9f-58c1-4583-9526-5cc326bffa9b"
   },
   "outputs": [
    {
     "name": "stdout",
     "output_type": "stream",
     "text": [
      "0 0.1643989873053573 simple linear regression\n",
      "simple linear regression is a machine learning algorithm that models the\n",
      "relationship between a dependent variable and one independent variable\n",
      "1 0.1643989873053573 it is a type\n",
      "of linear regression that is used to predict a quantitative output variable based on a\n",
      "single input variable\n",
      "2 0.9557790087219501 the equation for simple linear regression can be written as\n",
      "y  b0  b1  x\n",
      "where y is the dependent variable x is the independent variable b0 is the\n",
      "yintercept and b1 is the slope of the line\n",
      "3 0.8137334712067349 the goal of simple linear regression is\n",
      "to find the best values for b0 and b1 that minimize the sum of the squared errors\n",
      "between the predicted values and the actual values\n",
      "4 0.1643989873053573 example\n",
      "lets consider an example where we have a dataset of salaries and years of\n",
      "experience and we want to build a simple linear regression model to predict\n",
      "salaries based on years of experience\n",
      "5 0.1643989873053573 first we need to import the necessary libraries and load the dataset\n",
      "import pandas as pd\n",
      "import numpy as np\n",
      "import matplotlibpyplot as plt\n",
      "from sklearnlinearmodel import linearregression\n",
      "from sklearnmodelselection import traintestsplit\n",
      "dataset  pdreadcsvsalarydatacsv\n",
      "next we need to split the dataset into training and testing sets\n",
      "python\n",
      "copy code\n",
      "x  datasetiloc 1values\n",
      "y  datasetiloc 1values\n",
      "xtrain xtest ytrain ytest  traintestsplitx y testsize02 randomstate0\n",
      "after splitting the dataset we need to create an instance of the\n",
      "linearregression class and fit it to the training dataregressor  linearregression\n",
      "regressorfitxtrain ytrain\n",
      "now that we have fit the model to the training data we can use it to make predictions\n",
      "on the testing data\n",
      "ypred  regressorpredictxtest\n",
      "we can also visualize the results by plotting the training set and the regression line\n",
      "python\n",
      "copy code\n",
      "pltscatterxtrain ytrain colorred\n",
      "pltplotxtrain regressorpredictxtrain colorblue\n",
      "plttitlesalary vs experience training set\n",
      "pltxlabelyears of experience\n",
      "pltylabelsalary\n",
      "pltshow\n",
      "this will produce a scatter plot of the training data with the regression line overlaid\n",
      "simple linear regression plot\n",
      "finally we can evaluate the performance of the model by calculating the mean\n",
      "squared error and the coefficient of determination rsquared on the testing data\n",
      "from sklearnmetrics import meansquarederror r2score\n",
      "printmean squared error 2f  meansquarederrorytest ypred\n",
      "printcoefficient of determination 2f  r2scoreytest ypred\n",
      "mean squared error mse this metric measures the average squared difference\n",
      "between the predicted values and the actual values\n",
      "6 1.0 it gives an idea of how well the\n",
      "model is able to fit the data\n",
      "7 1.0 the lower the value of mse the better the model is\n",
      "performing\n",
      "8 0.9968152785361251 coefficient of determination rsquared this metric measures the proportion of\n",
      "variance in the dependent variable y that can be explained by the independent\n",
      "variable x used in the model\n",
      "9 0.9951448749663183 it ranges from 0 to 1 where 0 means that the model\n"
     ]
    }
   ],
   "source": [
    "import sklearn\n",
    "from sklearn.metrics.pairwise import cosine_similarity\n",
    "\n",
    "def retrieveAndPrintFAQAnswer(question_embedding, sentence_embeddings, sentences):\n",
    "  max_sim = -1\n",
    "  index_sim = -1\n",
    "  for index, embedding in enumerate(sentence_embeddings):\n",
    "    sim = cosine_similarity(embedding, question_embedding)[0][0]\n",
    "    print(index, sim, sentences[index])\n",
    "    if sim > max_sim:\n",
    "      max_sim = sim\n",
    "      index_sim = index\n",
    "  \n",
    "  return index_sim\n",
    "index = retrieveAndPrintFAQAnswer(question_embedding, bow_corpus, sentences)  "
   ]
  },
  {
   "cell_type": "code",
   "execution_count": 12,
   "metadata": {
    "colab": {
     "base_uri": "https://localhost:8080/"
    },
    "executionInfo": {
     "elapsed": 1430,
     "status": "ok",
     "timestamp": 1619423281769,
     "user": {
      "displayName": "SATYAM SONI",
      "photoUrl": "https://lh3.googleusercontent.com/a-/AOh14GhG4rcPYa7hnDqGvLTYPIBiXe9m-k4IPTmu9dWD=s64",
      "userId": "06127152709350492896"
     },
     "user_tz": -330
    },
    "id": "OJn2VJ24C9zK",
    "outputId": "ad4cecdd-a8c2-4e20-acd7-51a367462ced"
   },
   "outputs": [
    {
     "name": "stdout",
     "output_type": "stream",
     "text": [
      "Question:  what is simple linear regression \n",
      "Answer:  it gives an idea of how well the\n",
      "model is able to fit the data\n"
     ]
    }
   ],
   "source": [
    "print(\"Question: \", question)\n",
    "print(\"Answer: \", sentences[index])"
   ]
  },
  {
   "cell_type": "markdown",
   "metadata": {
    "id": "1PX0IqCPis1-"
   },
   "source": [
    "***Word Embedding Technique***\n",
    "\n",
    "\n",
    "\n",
    "1.   Word2Vec Embedding Technique\n",
    "2.   Glove Embedding Technique\n",
    "\n"
   ]
  },
  {
   "cell_type": "markdown",
   "metadata": {
    "id": "TjTGjdIOi5D-"
   },
   "source": [
    "***Using Word2Vec Model Approch***\n",
    "\n",
    "In these appproch we takes input of large corpus words and produces a vector space, typically of several hundreds dimensions, with each unique word in the corpus being assigned a corresponding vector in the space.\n",
    "\n",
    "Word vectors are positioned in the vector space such that words that share common contexts in the corpus are located in close proximity to one another in the space. Word2Vec is a particularly computationally-efficient predictive model for learning word embeddings from raw text.\n",
    "\n",
    "**Working**\n",
    "\n",
    "Word2Vec is a simple neural network with a single hidden layer, and like all neural networks, it has weights, and during training, its goal is to adjust those weights to reduce a loss function. However, Word2Vec is not going to be used for the task it was trained on, instead, we will just take its hidden weights, use them as our word embeddings, and toss the rest of the model (this came out a little bit evil).\n"
   ]
  },
  {
   "cell_type": "code",
   "execution_count": 14,
   "metadata": {
    "colab": {
     "base_uri": "https://localhost:8080/"
    },
    "executionInfo": {
     "elapsed": 819078,
     "status": "ok",
     "timestamp": 1619421436799,
     "user": {
      "displayName": "SATYAM SONI",
      "photoUrl": "https://lh3.googleusercontent.com/a-/AOh14GhG4rcPYa7hnDqGvLTYPIBiXe9m-k4IPTmu9dWD=s64",
      "userId": "06127152709350492896"
     },
     "user_tz": -330
    },
    "id": "2wtseJzQgz7w",
    "outputId": "17fc54ca-7e42-42a6-d12d-65b859f9ea52"
   },
   "outputs": [
    {
     "name": "stdout",
     "output_type": "stream",
     "text": [
      "[==================================================] 100.0% 1662.8/1662.8MB downloaded\n",
      "w2v Model Saved\n"
     ]
    }
   ],
   "source": [
    "from gensim.models import Word2Vec\n",
    "import gensim.downloader as api\n",
    "\n",
    "v2w_model = None\n",
    "try:\n",
    "  v2w_model = gensim.models.Keyedvectors.load('./Flask/models/w2vecmodel.mod')\n",
    "  print(\"w2v Model Successfully loaded\")\n",
    "except:\n",
    "  v2w_model = api.load('word2vec-google-news-300')\n",
    "  v2w_model.save('./Flask/models/w2vecmodel.mod')\n",
    "  print(\"w2v Model Saved\")\n",
    "\n",
    "w2vec_embedding_size = len(v2w_model['pc'])  "
   ]
  },
  {
   "cell_type": "code",
   "execution_count": 15,
   "metadata": {
    "id": "swnbdWppgz4s"
   },
   "outputs": [],
   "source": [
    "def getWordVec(word, model):\n",
    "  samp = model['pc']\n",
    "  vec = [0]*len(samp)\n",
    "  try:\n",
    "    vec = model[word]\n",
    "  except:\n",
    "    vec = [0]*len(samp)\n",
    "  return (vec)\n",
    "\n",
    "\n",
    "def getPhraseEmbedding(phrase, embeddingmodel):\n",
    "  samp = getWordVec('computer', embeddingmodel)\n",
    "  vec = numpy.array([0]*len(samp))\n",
    "  den = 0;\n",
    "  for word in phrase.split():\n",
    "    den = den+1\n",
    "    vec = vec+numpy.array(getWordVec(word, embeddingmodel))\n",
    "  return vec.reshape(1, -1)"
   ]
  },
  {
   "cell_type": "code",
   "execution_count": 16,
   "metadata": {
    "colab": {
     "base_uri": "https://localhost:8080/"
    },
    "executionInfo": {
     "elapsed": 1492,
     "status": "ok",
     "timestamp": 1619423304263,
     "user": {
      "displayName": "SATYAM SONI",
      "photoUrl": "https://lh3.googleusercontent.com/a-/AOh14GhG4rcPYa7hnDqGvLTYPIBiXe9m-k4IPTmu9dWD=s64",
      "userId": "06127152709350492896"
     },
     "user_tz": -330
    },
    "id": "NTbclmsijIY4",
    "outputId": "e50aacb7-2c13-47cc-b3a4-7af7bb629f85"
   },
   "outputs": [
    {
     "name": "stdout",
     "output_type": "stream",
     "text": [
      "0 0.8456418215184012 simple linear regression\n",
      "simple linear regression is a machine learning algorithm that models the\n",
      "relationship between a dependent variable and one independent variable\n",
      "1 0.7477354342647341 it is a type\n",
      "of linear regression that is used to predict a quantitative output variable based on a\n",
      "single input variable\n",
      "2 0.7395021719070538 the equation for simple linear regression can be written as\n",
      "y  b0  b1  x\n",
      "where y is the dependent variable x is the independent variable b0 is the\n",
      "yintercept and b1 is the slope of the line\n",
      "3 0.7027467587195436 the goal of simple linear regression is\n",
      "to find the best values for b0 and b1 that minimize the sum of the squared errors\n",
      "between the predicted values and the actual values\n",
      "4 0.6533678947669413 example\n",
      "lets consider an example where we have a dataset of salaries and years of\n",
      "experience and we want to build a simple linear regression model to predict\n",
      "salaries based on years of experience\n",
      "5 0.6183197612882815 first we need to import the necessary libraries and load the dataset\n",
      "import pandas as pd\n",
      "import numpy as np\n",
      "import matplotlibpyplot as plt\n",
      "from sklearnlinearmodel import linearregression\n",
      "from sklearnmodelselection import traintestsplit\n",
      "dataset  pdreadcsvsalarydatacsv\n",
      "next we need to split the dataset into training and testing sets\n",
      "python\n",
      "copy code\n",
      "x  datasetiloc 1values\n",
      "y  datasetiloc 1values\n",
      "xtrain xtest ytrain ytest  traintestsplitx y testsize02 randomstate0\n",
      "after splitting the dataset we need to create an instance of the\n",
      "linearregression class and fit it to the training dataregressor  linearregression\n",
      "regressorfitxtrain ytrain\n",
      "now that we have fit the model to the training data we can use it to make predictions\n",
      "on the testing data\n",
      "ypred  regressorpredictxtest\n",
      "we can also visualize the results by plotting the training set and the regression line\n",
      "python\n",
      "copy code\n",
      "pltscatterxtrain ytrain colorred\n",
      "pltplotxtrain regressorpredictxtrain colorblue\n",
      "plttitlesalary vs experience training set\n",
      "pltxlabelyears of experience\n",
      "pltylabelsalary\n",
      "pltshow\n",
      "this will produce a scatter plot of the training data with the regression line overlaid\n",
      "simple linear regression plot\n",
      "finally we can evaluate the performance of the model by calculating the mean\n",
      "squared error and the coefficient of determination rsquared on the testing data\n",
      "from sklearnmetrics import meansquarederror r2score\n",
      "printmean squared error 2f  meansquarederrorytest ypred\n",
      "printcoefficient of determination 2f  r2scoreytest ypred\n",
      "mean squared error mse this metric measures the average squared difference\n",
      "between the predicted values and the actual values\n",
      "6 0.5423669844144579 it gives an idea of how well the\n",
      "model is able to fit the data\n",
      "7 0.5177955241139995 the lower the value of mse the better the model is\n",
      "performing\n",
      "8 0.5904388074811352 coefficient of determination rsquared this metric measures the proportion of\n",
      "variance in the dependent variable y that can be explained by the independent\n",
      "variable x used in the model\n",
      "9 0.44408504616894057 it ranges from 0 to 1 where 0 means that the model\n"
     ]
    }
   ],
   "source": [
    "sent_embeddings = []\n",
    "for sent in sentences:\n",
    "  sent_embeddings.append(getPhraseEmbedding(sent, v2w_model))\n",
    "\n",
    "question_embedding = getPhraseEmbedding(question, v2w_model)\n",
    "index = retrieveAndPrintFAQAnswer(question_embedding, sent_embeddings, cleaned_sentences_with_stopwords)"
   ]
  },
  {
   "cell_type": "code",
   "execution_count": 17,
   "metadata": {
    "colab": {
     "base_uri": "https://localhost:8080/"
    },
    "executionInfo": {
     "elapsed": 935,
     "status": "ok",
     "timestamp": 1619423317678,
     "user": {
      "displayName": "SATYAM SONI",
      "photoUrl": "https://lh3.googleusercontent.com/a-/AOh14GhG4rcPYa7hnDqGvLTYPIBiXe9m-k4IPTmu9dWD=s64",
      "userId": "06127152709350492896"
     },
     "user_tz": -330
    },
    "id": "FnPvYc4-jIUK",
    "outputId": "f4a3118a-4c10-457a-d8f4-2b3cd17d0f43"
   },
   "outputs": [
    {
     "name": "stdout",
     "output_type": "stream",
     "text": [
      "Question:  what is simple linear regression \n",
      "Answer:  simple linear regression\n",
      "simple linear regression is a machine learning algorithm that models the\n",
      "relationship between a dependent variable and one independent variable\n"
     ]
    }
   ],
   "source": [
    "print(\"Question: \", question)\n",
    "print(\"Answer: \", cleaned_sentences_with_stopwords[index])"
   ]
  },
  {
   "cell_type": "code",
   "execution_count": null,
   "metadata": {
    "id": "90Ua1NIogzrL"
   },
   "outputs": [],
   "source": []
  }
 ],
 "metadata": {
  "colab": {
   "authorship_tag": "ABX9TyOmUnlVA5ba2hwPlk4wgGWT",
   "collapsed_sections": [],
   "name": "Question Answering System Using Word2Vec Embedding Technique.ipynb",
   "provenance": []
  },
  "kernelspec": {
   "display_name": "Python 3",
   "language": "python",
   "name": "python3"
  },
  "language_info": {
   "codemirror_mode": {
    "name": "ipython",
    "version": 3
   },
   "file_extension": ".py",
   "mimetype": "text/x-python",
   "name": "python",
   "nbconvert_exporter": "python",
   "pygments_lexer": "ipython3",
   "version": "3.11.4"
  }
 },
 "nbformat": 4,
 "nbformat_minor": 1
}
